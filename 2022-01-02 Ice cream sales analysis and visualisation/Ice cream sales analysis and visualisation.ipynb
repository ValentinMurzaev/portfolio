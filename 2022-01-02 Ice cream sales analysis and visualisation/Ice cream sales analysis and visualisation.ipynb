{
 "cells": [
  {
   "cell_type": "markdown",
   "metadata": {
    "id": "TwKeq5YmiLs8"
   },
   "source": [
    "## Ice cream sales and other data processing (using NumPy library tools)"
   ]
  },
  {
   "cell_type": "markdown",
   "metadata": {
    "id": "osf6PoJLiLtH"
   },
   "source": [
    "### 1\n",
    "\n",
    "Downloading an array from the `array_hw.ncpu` file, which contains the sales volumes of ice cream (in pieces) in 5 stores for one week in June (7 days, from Monday to Sunday):"
   ]
  },
  {
   "cell_type": "code",
   "execution_count": 1,
   "metadata": {
    "id": "jC5T_YNZiLtJ"
   },
   "outputs": [],
   "source": [
    "import numpy as np"
   ]
  },
  {
   "cell_type": "code",
   "execution_count": 2,
   "metadata": {
    "colab": {
     "base_uri": "https://localhost:8080/"
    },
    "id": "eib_Wl8NiLtM",
    "outputId": "f884af86-ad17-481f-cd17-cad5990bd0ef"
   },
   "outputs": [
    {
     "name": "stdout",
     "output_type": "stream",
     "text": [
      "Array 'arr':\n",
      "[[100  80  70  60 120]\n",
      " [ 65  55  20  50  60]\n",
      " [ 80  90  75  80  60]\n",
      " [ 45  60  70  20  40]\n",
      " [ 82  47  56  89  92]\n",
      " [115 120 113 106 107]\n",
      " [ 46  74  23  34  19]]\n"
     ]
    }
   ],
   "source": [
    "arr = np.load(\"array_hw.npy\")\n",
    "print(f'Array \\'arr\\':\\n{arr}')"
   ]
  },
  {
   "cell_type": "markdown",
   "metadata": {
    "id": "U3N5wnQKiLtP"
   },
   "source": [
    "In the table, stores are arranged in columns (1 store = 1 column, 5 in total), and days are arranged in rows (1 day = 1 row, 7 in total), this is difficult for an intuitive perception of its contents."
   ]
  },
  {
   "cell_type": "code",
   "execution_count": 3,
   "metadata": {},
   "outputs": [
    {
     "name": "stdout",
     "output_type": "stream",
     "text": [
      "The original form of the table: (7, 5)\n"
     ]
    }
   ],
   "source": [
    "print(f'The original form of the table: {arr.shape}')"
   ]
  },
  {
   "cell_type": "code",
   "execution_count": 4,
   "metadata": {
    "colab": {
     "base_uri": "https://localhost:8080/"
    },
    "id": "Kix_r2MViLtS",
    "outputId": "2965e482-5ad4-4001-ccb2-5477174422ec"
   },
   "outputs": [
    {
     "name": "stdout",
     "output_type": "stream",
     "text": [
      "The shape of the table after transposition: (5, 7)\n"
     ]
    }
   ],
   "source": [
    "arr = arr.transpose()\n",
    "print(f'The shape of the table after transposition: {arr.shape}')"
   ]
  },
  {
   "cell_type": "markdown",
   "metadata": {
    "id": "z2UVbvFXiLtT"
   },
   "source": [
    "Later, the sales information was updated. It turned out that on Sunday the fifth store sold not 19 portions of ice cream, but 25. And on Tuesday the second store sold not 55 portions, but 65.\n",
    "Let's enter this data into the array:"
   ]
  },
  {
   "cell_type": "code",
   "execution_count": 5,
   "metadata": {
    "colab": {
     "base_uri": "https://localhost:8080/"
    },
    "id": "GrI5iXDviLtV",
    "outputId": "ca88b500-5a33-47e5-deac-d43ffa6f9082"
   },
   "outputs": [
    {
     "name": "stdout",
     "output_type": "stream",
     "text": [
      "The table after data updating:\n",
      "[[100  65  80  45  82 115  46]\n",
      " [ 80  65  90  60  47 120  74]\n",
      " [ 70  20  75  70  56 113  23]\n",
      " [ 60  50  80  20  89 106  34]\n",
      " [120  60  60  40  92 107  25]]\n"
     ]
    }
   ],
   "source": [
    "arr[4][6] = 25\n",
    "arr[1][1] = 65\n",
    "print(f'The table after data updating:\\n{arr}')"
   ]
  },
  {
   "cell_type": "code",
   "execution_count": 6,
   "metadata": {
    "colab": {
     "base_uri": "https://localhost:8080/"
    },
    "id": "A0ijrVJ1iLtY",
    "outputId": "b6257081-aba5-44b5-dd54-3811db538f3b"
   },
   "outputs": [
    {
     "name": "stdout",
     "output_type": "stream",
     "text": [
      "Total sales of ice cream in all stores: 2439\n"
     ]
    }
   ],
   "source": [
    "print(f'Total sales of ice cream in all stores: {np.sum(arr)}')"
   ]
  },
  {
   "cell_type": "markdown",
   "metadata": {
    "id": "wepNlJTeiLtb"
   },
   "source": [
    "### 2\n",
    "\n",
    "The `income` array contains ungrouped store profit values in thousands at the beginning, middle and end of the year, for four successive years."
   ]
  },
  {
   "cell_type": "code",
   "execution_count": 7,
   "metadata": {
    "colab": {
     "base_uri": "https://localhost:8080/"
    },
    "id": "TFSYkgCpiLtb",
    "outputId": "e3526f39-f4ea-4953-ccd3-4405858439d3"
   },
   "outputs": [
    {
     "name": "stdout",
     "output_type": "stream",
     "text": [
      "The original array:\n",
      "[ 1000  2000  3500  2500  1500  3800  1200  9000 12000  4500  6700 11000]\n"
     ]
    }
   ],
   "source": [
    "income = np.array([1000, 2000, 3500,\n",
    "                   2500, 1500, 3800,\n",
    "                   1200, 9000, 12000,\n",
    "                   4500, 6700, 11000])\n",
    "print(f'The original array:\\n{income}')"
   ]
  },
  {
   "cell_type": "code",
   "execution_count": 8,
   "metadata": {
    "colab": {
     "base_uri": "https://localhost:8080/"
    },
    "id": "e4L2nnWsiLtc",
    "outputId": "862bae20-2f7c-4d22-93f6-0e43ed9363e5"
   },
   "outputs": [
    {
     "name": "stdout",
     "output_type": "stream",
     "text": [
      "The same array with values grouped by year and season:\n",
      "[[ 1000  2000  3500]\n",
      " [ 2500  1500  3800]\n",
      " [ 1200  9000 12000]\n",
      " [ 4500  6700 11000]]\n"
     ]
    }
   ],
   "source": [
    "income = income.reshape(4, 3)\n",
    "print(f'The same array with values grouped by year and season:\\n{income}')"
   ]
  },
  {
   "cell_type": "markdown",
   "metadata": {
    "id": "sV9IfVPsiLtd"
   },
   "source": [
    "### 3\n",
    "\n",
    "The `turnout` list contains the values of the turnout at the polling stations as a percentage:"
   ]
  },
  {
   "cell_type": "code",
   "execution_count": 9,
   "metadata": {
    "colab": {
     "base_uri": "https://localhost:8080/"
    },
    "id": "Vtadd2UQiLte",
    "outputId": "8acc93e1-5212-496a-d39a-5c91f6fe1f90"
   },
   "outputs": [
    {
     "name": "stdout",
     "output_type": "stream",
     "text": [
      "Original list: [23.56, 45.78, 34.92, 57.34, 56.55, 67.23]\n",
      "An array of values rounded with Python (not NumPy): [23.6 45.8 34.9 57.3 56.5 67.2]\n"
     ]
    }
   ],
   "source": [
    "turnout = [23.56, 45.78, 34.92, 57.34, 56.55, 67.23]\n",
    "print(f'Original list: {turnout}')\n",
    "turnout_r = np.array([round(i, 1) for i in turnout])\n",
    "print(f'An array of values rounded with Python (not NumPy): {turnout_r}')"
   ]
  },
  {
   "cell_type": "code",
   "execution_count": 10,
   "metadata": {
    "colab": {
     "base_uri": "https://localhost:8080/"
    },
    "id": "Y3cCRCT1iLtg",
    "outputId": "b28f1d6e-3a01-407c-a17f-64ed483ca3bd"
   },
   "outputs": [
    {
     "name": "stdout",
     "output_type": "stream",
     "text": [
      "An array of values rounded with NumPy: [23.6 45.8 34.9 57.3 56.6 67.2]\n"
     ]
    }
   ],
   "source": [
    "turnout = np.array(turnout)\n",
    "turnout_r = turnout.round(1)\n",
    "print(f'An array of values rounded with NumPy: {turnout_r}')"
   ]
  },
  {
   "cell_type": "markdown",
   "metadata": {
    "id": "QhJlmTeliLti"
   },
   "source": [
    "### 4\n",
    "\n",
    "A structured array `happy` containing 3 indicators of the **2012 International Happiness Index** related to 3 countries."
   ]
  },
  {
   "cell_type": "code",
   "execution_count": 11,
   "metadata": {
    "colab": {
     "base_uri": "https://localhost:8080/"
    },
    "id": "w303V_UJiLtk",
    "outputId": "ec885f01-4d43-4df1-8a39-418a3806ad36"
   },
   "outputs": [
    {
     "name": "stdout",
     "output_type": "stream",
     "text": [
      "The structured array 'happy':\n",
      "[('Israel', 55.2, 7.4, 81.6) ('State of Palestine', 51.2, 4.8, 72.8)\n",
      " ('United Kingdom', 49.7, 7. , 80.2)]\n"
     ]
    }
   ],
   "source": [
    "happy = np.array([('Israel', 55.2, 7.4, 81.6), ('State of Palestine', 51.2, 4.8, 72.8), ('United Kingdom', 49.7, 7, 80.2)],\n",
    "              dtype=[('country','U20'), ('HPI', float), ('life satisfaction', float), ('life expectancy', float)])\n",
    "print(f'The structured array \\'happy\\':\\n{happy}')"
   ]
  },
  {
   "cell_type": "code",
   "execution_count": 12,
   "metadata": {
    "colab": {
     "base_uri": "https://localhost:8080/"
    },
    "id": "v0jgM28tiLtn",
    "outputId": "aa75fb23-acb5-4eb8-c019-98e4d9b1e2cf"
   },
   "outputs": [
    {
     "name": "stdout",
     "output_type": "stream",
     "text": [
      "The 'happy' array converted to a ordinary list:\n",
      "[('Israel', 55.2, 7.4, 81.6), ('State of Palestine', 51.2, 4.8, 72.8), ('United Kingdom', 49.7, 7.0, 80.2)]\n",
      "The second item in the list: ('State of Palestine', 51.2, 4.8, 72.8)\n"
     ]
    }
   ],
   "source": [
    "happy_list = happy.tolist()\n",
    "happy_list[1]\n",
    "print(f'The \\'happy\\' array converted to a ordinary list:\\n{happy_list}')\n",
    "print(f'The second item in the list: {happy_list[1]}')"
   ]
  },
  {
   "cell_type": "markdown",
   "metadata": {
    "id": "uplaYklo0zrv"
   },
   "source": [
    "### 5\n",
    "\n",
    "Creating the `build_array()` function using Python (without using `np.eye()`), which takes as input the dimension of a square matrix (a two-dimensional array in which the number of rows and the number of columns match) and creates a unit matrix `E` (array) of the appropriate dimension."
   ]
  },
  {
   "cell_type": "code",
   "execution_count": 13,
   "metadata": {
    "colab": {
     "base_uri": "https://localhost:8080/"
    },
    "id": "saSGBa2N0zrw",
    "outputId": "2d5233ae-4110-4308-dcb1-295bbb9b4e7a"
   },
   "outputs": [
    {
     "data": {
      "text/plain": [
       "array([[1, 0, 0, 0],\n",
       "       [0, 1, 0, 0],\n",
       "       [0, 0, 1, 0],\n",
       "       [0, 0, 0, 1]])"
      ]
     },
     "execution_count": 13,
     "metadata": {},
     "output_type": "execute_result"
    }
   ],
   "source": [
    "def build_array(dim):\n",
    "    list_i = list()\n",
    "    for i in range(dim):\n",
    "        list_j = list()\n",
    "        for j in range(dim):\n",
    "            if i == j:\n",
    "                list_j.append(1)\n",
    "            else:\n",
    "                list_j.append(0)\n",
    "        list_i.append(list_j)\n",
    "    return np.array(list_i)\n",
    "\n",
    "n = 4\n",
    "build_array(n)"
   ]
  },
  {
   "cell_type": "markdown",
   "metadata": {
    "id": "jgutn2Sj0zr1"
   },
   "source": [
    "Creating the function `my_reshape()`, which takes an array and its new dimension (a pair of numbers) as input, then:\n",
    "* if the specified measurements are correct, it returns an array of the new dimension;\n",
    "* if they are incorrect, it returns an empty array (example: a new 4×3 array cannot be made from a 2×5 array, because there are 10 elements in the old array, and 12 in the new one)."
   ]
  },
  {
   "cell_type": "code",
   "execution_count": 14,
   "metadata": {
    "id": "BARsZ6SU0zr1"
   },
   "outputs": [
    {
     "data": {
      "text/plain": [
       "array([[ 2],\n",
       "       [ 4],\n",
       "       [ 6],\n",
       "       [ 4],\n",
       "       [ 8],\n",
       "       [10]])"
      ]
     },
     "execution_count": 14,
     "metadata": {},
     "output_type": "execute_result"
    }
   ],
   "source": [
    "def my_reshape(array, rows, cols):\n",
    "        if len(array.ravel()) == rows * cols:\n",
    "            return array.reshape(rows, cols)\n",
    "        else:\n",
    "            return np.array([])\n",
    "\n",
    "A = np.array([[2, 4, 6],\n",
    "            [4, 8, 10]])\n",
    "\n",
    "my_reshape(A, 6, 1)"
   ]
  },
  {
   "cell_type": "code",
   "execution_count": 15,
   "metadata": {
    "id": "-Rx1C0kQiLtq"
   },
   "outputs": [
    {
     "data": {
      "text/plain": [
       "array([], dtype=float64)"
      ]
     },
     "execution_count": 15,
     "metadata": {},
     "output_type": "execute_result"
    }
   ],
   "source": [
    "my_reshape(A, 4, 2)"
   ]
  }
 ],
 "metadata": {
  "colab": {
   "provenance": []
  },
  "kernelspec": {
   "display_name": "Python 3 (ipykernel)",
   "language": "python",
   "name": "python3"
  },
  "language_info": {
   "codemirror_mode": {
    "name": "ipython",
    "version": 3
   },
   "file_extension": ".py",
   "mimetype": "text/x-python",
   "name": "python",
   "nbconvert_exporter": "python",
   "pygments_lexer": "ipython3",
   "version": "3.11.7"
  }
 },
 "nbformat": 4,
 "nbformat_minor": 4
}
