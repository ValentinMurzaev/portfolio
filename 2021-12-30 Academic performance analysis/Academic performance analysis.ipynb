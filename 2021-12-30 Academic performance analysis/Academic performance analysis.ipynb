{
 "cells": [
  {
   "cell_type": "markdown",
   "metadata": {
    "id": "KkW9XLpDgFAF"
   },
   "source": [
    "## Academic performance analysis (using NumPy library tools)"
   ]
  },
  {
   "cell_type": "markdown",
   "metadata": {
    "id": "vN6QRLhK7pF3"
   },
   "source": [
    "### 1"
   ]
  },
  {
   "cell_type": "markdown",
   "metadata": {
    "id": "HWyKtbvPgFAF"
   },
   "source": [
    "The source array contains the scores of the English language course student entrance exam. The students are divided into 15 groups, 10 people each:"
   ]
  },
  {
   "cell_type": "code",
   "execution_count": 1,
   "metadata": {
    "id": "XViQYLNHgFAG"
   },
   "outputs": [],
   "source": [
    "import numpy as np\n",
    "\n",
    "scores = np.array([[20, 40, 56, 80, 0, 5, 25, 27, 74, 1],\n",
    "         [0, 98, 67, 100, 8, 56, 34, 82, 100, 7],\n",
    "         [78, 54, 23, 79, 100, 0, 0, 42, 95, 83],\n",
    "         [51, 50, 47, 23, 100, 94, 25, 48, 38, 77],\n",
    "         [90, 87, 41, 89, 52, 0, 5, 17, 28, 99],\n",
    "         [32, 18, 21, 18, 29, 31, 48, 62, 76, 22],\n",
    "         [6, 0, 65, 78, 43, 22, 38, 88, 94, 100],\n",
    "         [77, 28, 39, 41, 0, 81, 45, 54, 98, 12],\n",
    "         [66, 0, 88, 0, 44, 0, 55, 100, 12, 11],\n",
    "         [17, 70, 86, 96, 56, 23, 32, 49, 70, 80],\n",
    "         [20, 24, 76, 50, 29, 40, 3, 2, 5, 11],\n",
    "         [33, 63, 28, 40, 51, 100, 98, 87, 22, 30],\n",
    "         [16, 54, 78, 12, 25, 35, 10, 19, 67, 0],\n",
    "         [100, 88, 24, 33, 47, 56, 62, 34, 77, 53],\n",
    "         [50, 89, 70, 72, 56, 29, 15, 20, 0, 0]])"
   ]
  },
  {
   "cell_type": "code",
   "execution_count": 2,
   "metadata": {
    "colab": {
     "base_uri": "https://localhost:8080/"
    },
    "id": "ny-bpAn_gFAI",
    "outputId": "4868ec73-40c3-4e2f-9f09-3ab527004bc3"
   },
   "outputs": [
    {
     "name": "stdout",
     "output_type": "stream",
     "text": [
      "The score \"0\" was got by 13 students.\n"
     ]
    }
   ],
   "source": [
    "zero_pupils = scores == 0\n",
    "print(f'The score \"0\" was got by {zero_pupils.sum()} students.')"
   ]
  },
  {
   "cell_type": "code",
   "execution_count": 3,
   "metadata": {
    "colab": {
     "base_uri": "https://localhost:8080/"
    },
    "id": "mUD76BUigFAL",
    "outputId": "bf8f3150-e406-4d65-e66e-1b2de63ebff3"
   },
   "outputs": [
    {
     "name": "stdout",
     "output_type": "stream",
     "text": [
      "The score more than 50 was got by 64 students.\n"
     ]
    }
   ],
   "source": [
    "fifty_pupils = scores > 50\n",
    "print(f'The score more than 50 was got by {fifty_pupils.sum()} students.')"
   ]
  },
  {
   "cell_type": "code",
   "execution_count": 4,
   "metadata": {
    "colab": {
     "base_uri": "https://localhost:8080/"
    },
    "id": "RvzMz6lTgFAO",
    "outputId": "3c842a72-c23b-41fc-d8d4-6d1f55a26050"
   },
   "outputs": [
    {
     "name": "stdout",
     "output_type": "stream",
     "text": [
      "26 people got the score not lower than 50, but not higher than 70.\n"
     ]
    }
   ],
   "source": [
    "ffty_svty_pupils = (scores >= 50) & (scores <= 70)\n",
    "print(f'{ffty_svty_pupils.sum()} people got the score not lower than 50, but not higher than 70.')"
   ]
  },
  {
   "cell_type": "code",
   "execution_count": 21,
   "metadata": {
    "colab": {
     "base_uri": "https://localhost:8080/"
    },
    "id": "Fto_aImFgFAQ",
    "outputId": "cc8c36dc-eb7f-4670-8ee1-469921ec6d79"
   },
   "outputs": [
    {
     "name": "stdout",
     "output_type": "stream",
     "text": [
      "There is the highest average score for the entrance exam in group number 9.\n"
     ]
    }
   ],
   "source": [
    "print(f'There is the highest average score for the entrance exam in group number {np.array([i.mean() for i in scores]).argmax()}.')"
   ]
  },
  {
   "cell_type": "code",
   "execution_count": 6,
   "metadata": {
    "colab": {
     "base_uri": "https://localhost:8080/"
    },
    "id": "u20KJBn-5MX3",
    "outputId": "8a8e8d29-61d1-4fc0-da7a-d736b3b7602a"
   },
   "outputs": [
    {
     "name": "stdout",
     "output_type": "stream",
     "text": [
      "The \"nonzero\" array with the scores above 0:\n",
      "[ 20  40  56  80   5  25  27  74   1  98  67 100   8  56  34  82 100   7\n",
      "  78  54  23  79 100  42  95  83  51  50  47  23 100  94  25  48  38  77\n",
      "  90  87  41  89  52   5  17  28  99  32  18  21  18  29  31  48  62  76\n",
      "  22   6  65  78  43  22  38  88  94 100  77  28  39  41  81  45  54  98\n",
      "  12  66  88  44  55 100  12  11  17  70  86  96  56  23  32  49  70  80\n",
      "  20  24  76  50  29  40   3   2   5  11  33  63  28  40  51 100  98  87\n",
      "  22  30  16  54  78  12  25  35  10  19  67 100  88  24  33  47  56  62\n",
      "  34  77  53  50  89  70  72  56  29  15  20]\n"
     ]
    }
   ],
   "source": [
    "nonzero = scores[scores > 0]\n",
    "print(f'The \\\"nonzero\\\" array with the scores above 0:\\n{nonzero}')"
   ]
  },
  {
   "cell_type": "code",
   "execution_count": 7,
   "metadata": {
    "colab": {
     "base_uri": "https://localhost:8080/"
    },
    "id": "ZnGg9mcUgFAV",
    "outputId": "a53b262a-0ca6-411b-a98f-90d90ffcccf0"
   },
   "outputs": [
    {
     "name": "stdout",
     "output_type": "stream",
     "text": [
      "The minimum exam score in all the groups: 1.\n"
     ]
    }
   ],
   "source": [
    "min_score = nonzero.min()\n",
    "print(f'The minimum exam score in all the groups: {min_score}.')"
   ]
  },
  {
   "cell_type": "code",
   "execution_count": 8,
   "metadata": {
    "colab": {
     "base_uri": "https://localhost:8080/"
    },
    "id": "nmMA59fAgFAZ",
    "outputId": "83490f8a-e65c-43fc-8530-c3f40ec05c4a"
   },
   "outputs": [
    {
     "name": "stdout",
     "output_type": "stream",
     "text": [
      "The \"advanced\" array that includes student scores above 80:\n",
      "[ 98 100  82 100 100  95  83 100  94  90  87  89  99  88  94 100  81  98\n",
      "  88 100  86  96 100  98  87 100  88  89].\n"
     ]
    }
   ],
   "source": [
    "advanced = nonzero[nonzero > 80]\n",
    "print(f'The \\\"advanced\\\" array that includes student scores above 80:\\n{advanced}.')"
   ]
  },
  {
   "cell_type": "code",
   "execution_count": 9,
   "metadata": {
    "colab": {
     "base_uri": "https://localhost:8080/"
    },
    "id": "m_9Wm-7xgFAl",
    "outputId": "4c5724c5-7287-4f06-cb1f-947050993ddb"
   },
   "outputs": [
    {
     "name": "stdout",
     "output_type": "stream",
     "text": [
      "\"Advanced\" array dimension: 1.\n"
     ]
    }
   ],
   "source": [
    "print(f'\\\"Advanced\\\" array dimension: {advanced.ndim}.')"
   ]
  },
  {
   "cell_type": "code",
   "execution_count": 10,
   "metadata": {
    "colab": {
     "base_uri": "https://localhost:8080/"
    },
    "id": "6VSwGB6fgFAp",
    "outputId": "91b012d6-d8fd-4784-def3-3ea635446ae9"
   },
   "outputs": [
    {
     "name": "stdout",
     "output_type": "stream",
     "text": [
      "\"Advanced\" array shape: (28,).\n"
     ]
    }
   ],
   "source": [
    "print(f'\\\"Advanced\\\" array shape: {advanced.shape}.')"
   ]
  },
  {
   "cell_type": "code",
   "execution_count": 11,
   "metadata": {
    "colab": {
     "base_uri": "https://localhost:8080/"
    },
    "id": "OvJ2oJV7gFAr",
    "outputId": "05feb8e4-060f-4604-d49e-399ae5e25361"
   },
   "outputs": [
    {
     "name": "stdout",
     "output_type": "stream",
     "text": [
      "The total number of elements in the array \"advanced\" array: 28.\n"
     ]
    }
   ],
   "source": [
    "print(f'The total number of elements in the array \\\"advanced\\\" array: {advanced.size}.')"
   ]
  },
  {
   "cell_type": "code",
   "execution_count": 12,
   "metadata": {
    "colab": {
     "base_uri": "https://localhost:8080/"
    },
    "id": "cXVCTZJRgFAw",
    "outputId": "acbc973f-8d88-4d61-bec1-4b74249f2684"
   },
   "outputs": [
    {
     "name": "stdout",
     "output_type": "stream",
     "text": [
      "The boolean array \"sto\", where True corresponds to exam scores equal to 100, and False corresponds to all other scores:\n",
      "[[False False False False False False False False False False]\n",
      " [False False False  True False False False False  True False]\n",
      " [False False False False  True False False False False False]\n",
      " [False False False False  True False False False False False]\n",
      " [False False False False False False False False False False]\n",
      " [False False False False False False False False False False]\n",
      " [False False False False False False False False False  True]\n",
      " [False False False False False False False False False False]\n",
      " [False False False False False False False  True False False]\n",
      " [False False False False False False False False False False]\n",
      " [False False False False False False False False False False]\n",
      " [False False False False False  True False False False False]\n",
      " [False False False False False False False False False False]\n",
      " [ True False False False False False False False False False]\n",
      " [False False False False False False False False False False]]\n"
     ]
    }
   ],
   "source": [
    "sto = scores == 100\n",
    "print(f'The boolean array \\\"sto\\\", where True corresponds to exam scores equal to 100, and False corresponds to all other scores:\\n{sto}')"
   ]
  },
  {
   "cell_type": "code",
   "execution_count": 13,
   "metadata": {
    "colab": {
     "base_uri": "https://localhost:8080/",
     "height": 165
    },
    "id": "5MsmBdCggFA0",
    "outputId": "6d401cc6-527f-49a3-8656-c84654266e18"
   },
   "outputs": [
    {
     "name": "stdout",
     "output_type": "stream",
     "text": [
      "The scores of the listeners of the first seven groups:\n",
      "[[ 20  40  56  80   0   5  25  27  74   1]\n",
      " [  0  98  67 100   8  56  34  82 100   7]\n",
      " [ 78  54  23  79 100   0   0  42  95  83]\n",
      " [ 51  50  47  23 100  94  25  48  38  77]\n",
      " [ 90  87  41  89  52   0   5  17  28  99]\n",
      " [ 32  18  21  18  29  31  48  62  76  22]\n",
      " [  6   0  65  78  43  22  38  88  94 100]]\n"
     ]
    }
   ],
   "source": [
    "print(f'The scores of the listeners of the first seven groups:\\n{scores[:7]}')"
   ]
  },
  {
   "cell_type": "markdown",
   "metadata": {
    "id": "5cwVuZHAgFA1"
   },
   "source": [
    "### 2"
   ]
  },
  {
   "cell_type": "markdown",
   "metadata": {
    "id": "NevmPbRrgFA2"
   },
   "source": [
    "The sourse score array `A`:"
   ]
  },
  {
   "cell_type": "code",
   "execution_count": 14,
   "metadata": {
    "id": "b8eeE6EOgFA2"
   },
   "outputs": [],
   "source": [
    "A = np.array([[2, 9, 8, 0],\n",
    "             [8, 7, 5, 6],\n",
    "             [3, 1, 0, 2],\n",
    "             [6, 5, 6, 8],\n",
    "             [1, 0, 0, 4]])"
   ]
  },
  {
   "cell_type": "code",
   "execution_count": 15,
   "metadata": {
    "colab": {
     "base_uri": "https://localhost:8080/"
    },
    "id": "2HvCIIF0gFA6",
    "outputId": "00d6e98a-1f0c-4949-ba68-8746726d3935"
   },
   "outputs": [
    {
     "name": "stdout",
     "output_type": "stream",
     "text": [
      "Array A transposed without using NumPy built-in methods:\n",
      "[[2. 8. 3. 6. 1.]\n",
      " [9. 7. 1. 5. 0.]\n",
      " [8. 5. 0. 6. 0.]\n",
      " [0. 6. 2. 8. 4.]]\n"
     ]
    }
   ],
   "source": [
    "A_height = A.shape[0]\n",
    "A_width = A.shape[1]\n",
    "A_tr = np.zeros((A_width, A_height))\n",
    "for i in range(A_height):\n",
    "    for j in range(A_width):\n",
    "        A_tr[j][i] = A[i][j]\n",
    "print(f'Array A transposed without using NumPy built-in methods:\\n{A_tr}')"
   ]
  },
  {
   "cell_type": "code",
   "execution_count": 16,
   "metadata": {
    "colab": {
     "base_uri": "https://localhost:8080/"
    },
    "id": "oy3tY9Y0gFA9",
    "outputId": "18adcf0e-2b7c-4bc4-c007-ae9bcaa34b1a"
   },
   "outputs": [
    {
     "name": "stdout",
     "output_type": "stream",
     "text": [
      "Is the transposed array similar to the same calculated using the function \".T\"? True\n"
     ]
    }
   ],
   "source": [
    "print(f'Is the transposed array similar to the same calculated using the function \\\".T\\\"? {np.array_equal(A.T, A_tr)}')"
   ]
  },
  {
   "cell_type": "markdown",
   "metadata": {
    "id": "0GsTgRbbgFA_"
   },
   "source": [
    "### 3\n",
    "\n",
    "Student N works as a math tutor and manages classes of various types:\n",
    "* preliminary class for the Unified State Exam,\n",
    "* preliminary for Olympiads,\n",
    "* elementary school students class that \"pulls up\" mathematics.\n",
    "\n",
    "The `classes` array stores the number of lessons taught in five working days, and the `prices` array stores the cost of one lesson (it is assumed that a tutor conducts classes of the same type for all day, with the same cost)."
   ]
  },
  {
   "cell_type": "code",
   "execution_count": 17,
   "metadata": {
    "id": "IHm4BAzMgFA_"
   },
   "outputs": [],
   "source": [
    "classes = np.array([3, 3, 2, 0, 2])\n",
    "prices = np.array([1500, 1500, 2500, 1000, 1000])"
   ]
  },
  {
   "cell_type": "code",
   "execution_count": 18,
   "metadata": {
    "colab": {
     "base_uri": "https://localhost:8080/"
    },
    "id": "naNXR55mgFBD",
    "outputId": "9c3f3663-4b43-4c1a-ef6a-db6b73b15b41"
   },
   "outputs": [
    {
     "name": "stdout",
     "output_type": "stream",
     "text": [
      "Tutor's weekly income: 16000\n"
     ]
    }
   ],
   "source": [
    "np.dot(prices, classes)\n",
    "print(f\"Tutor's weekly income: {np.dot(prices, classes)}\")"
   ]
  },
  {
   "cell_type": "markdown",
   "metadata": {
    "id": "pVhH4MrAgFBH"
   },
   "source": [
    "### 4\n",
    "\n",
    "There are two Boolean arrays expert1 and expert2. They are based on the results of students' essay scores data working set by two different experts. In these arrays the value True means a grade of \"satisfactory\" and higher, and the value False – unsatisfactory. In total there were 15 essays evaluated, 5 essays for each of the three topics:"
   ]
  },
  {
   "cell_type": "code",
   "execution_count": 19,
   "metadata": {
    "id": "XvKTyCPsgFBH"
   },
   "outputs": [],
   "source": [
    "expert1 = np.array([[True, False, False, True, True],\n",
    "                   [False, True, False, False, True],\n",
    "                   [True, True, True, False, False]])\n",
    "expert2 = np.array([[True, False, False, False, True],\n",
    "                   [False, False, False, False, False],\n",
    "                   [True, False, True, False, False]])"
   ]
  },
  {
   "cell_type": "markdown",
   "metadata": {
    "id": "VMyDWTNX95iq"
   },
   "source": [
    "Only students who have received satisfactory grades from both experts will get a positive assesment."
   ]
  },
  {
   "cell_type": "code",
   "execution_count": 20,
   "metadata": {
    "colab": {
     "base_uri": "https://localhost:8080/"
    },
    "id": "_ItTN6kugFBI",
    "outputId": "7ef3626f-19ff-47f5-ef30-9caed0a43f21"
   },
   "outputs": [
    {
     "name": "stdout",
     "output_type": "stream",
     "text": [
      "In total only 4 students will get a positive assesment\n"
     ]
    }
   ],
   "source": [
    "expert = expert1 & expert2\n",
    "print(f'In total only {expert.sum()} students will get a positive assesment')"
   ]
  },
  {
   "cell_type": "code",
   "execution_count": null,
   "metadata": {},
   "outputs": [],
   "source": []
  }
 ],
 "metadata": {
  "colab": {
   "provenance": []
  },
  "kernelspec": {
   "display_name": "Python 3 (ipykernel)",
   "language": "python",
   "name": "python3"
  },
  "language_info": {
   "codemirror_mode": {
    "name": "ipython",
    "version": 3
   },
   "file_extension": ".py",
   "mimetype": "text/x-python",
   "name": "python",
   "nbconvert_exporter": "python",
   "pygments_lexer": "ipython3",
   "version": "3.11.7"
  }
 },
 "nbformat": 4,
 "nbformat_minor": 4
}
