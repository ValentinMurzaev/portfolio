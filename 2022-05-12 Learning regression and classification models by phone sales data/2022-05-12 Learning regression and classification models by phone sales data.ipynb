{
 "cells": [
  {
   "cell_type": "markdown",
   "metadata": {
    "id": "AA9qiddM7MxM"
   },
   "source": [
    "## Learning regression and classification models by phone sales data"
   ]
  },
  {
   "cell_type": "code",
   "execution_count": null,
   "metadata": {
    "id": "0Kjpkv3o7MxZ"
   },
   "outputs": [],
   "source": [
    "import numpy as np\n",
    "import pandas as pd\n",
    "\n",
    "import matplotlib\n",
    "import matplotlib.pyplot as plt\n",
    "from mpl_toolkits.mplot3d import Axes3D # to render 3D projections\n",
    "matplotlib.rc(\"font\", size=12) # to enlarge the font of the graph captions\n",
    "\n",
    "from sklearn.linear_model import LinearRegression\n",
    "from sklearn.tree import DecisionTreeClassifier, export_text"
   ]
  },
  {
   "cell_type": "markdown",
   "metadata": {
    "id": "MT7z4YVAkAED"
   },
   "source": [
    "### 1. Loading and visualizing the source data"
   ]
  },
  {
   "cell_type": "code",
   "execution_count": null,
   "metadata": {
    "colab": {
     "base_uri": "https://localhost:8080/",
     "height": 206
    },
    "id": "HzmOX-Yd7Mxo",
    "outputId": "7fdfdbb6-2724-4b6b-f260-15a4d0a1e092",
    "scrolled": true
   },
   "outputs": [
    {
     "data": {
      "text/html": [
       "\n",
       "  <div id=\"df-7fc27b5f-9a6a-40ec-8039-d7194d13a352\">\n",
       "    <div class=\"colab-df-container\">\n",
       "      <div>\n",
       "<style scoped>\n",
       "    .dataframe tbody tr th:only-of-type {\n",
       "        vertical-align: middle;\n",
       "    }\n",
       "\n",
       "    .dataframe tbody tr th {\n",
       "        vertical-align: top;\n",
       "    }\n",
       "\n",
       "    .dataframe thead th {\n",
       "        text-align: right;\n",
       "    }\n",
       "</style>\n",
       "<table border=\"1\" class=\"dataframe\">\n",
       "  <thead>\n",
       "    <tr style=\"text-align: right;\">\n",
       "      <th></th>\n",
       "      <th>disk</th>\n",
       "      <th>os</th>\n",
       "      <th>price</th>\n",
       "      <th>year</th>\n",
       "    </tr>\n",
       "  </thead>\n",
       "  <tbody>\n",
       "    <tr>\n",
       "      <th>0</th>\n",
       "      <td>64</td>\n",
       "      <td>Android</td>\n",
       "      <td>7256</td>\n",
       "      <td>2016</td>\n",
       "    </tr>\n",
       "    <tr>\n",
       "      <th>1</th>\n",
       "      <td>128</td>\n",
       "      <td>Android</td>\n",
       "      <td>7623</td>\n",
       "      <td>2015</td>\n",
       "    </tr>\n",
       "    <tr>\n",
       "      <th>2</th>\n",
       "      <td>64</td>\n",
       "      <td>Android</td>\n",
       "      <td>1916</td>\n",
       "      <td>2010</td>\n",
       "    </tr>\n",
       "    <tr>\n",
       "      <th>3</th>\n",
       "      <td>512</td>\n",
       "      <td>iOS</td>\n",
       "      <td>15045</td>\n",
       "      <td>2017</td>\n",
       "    </tr>\n",
       "    <tr>\n",
       "      <th>4</th>\n",
       "      <td>16</td>\n",
       "      <td>Android</td>\n",
       "      <td>4478</td>\n",
       "      <td>2013</td>\n",
       "    </tr>\n",
       "  </tbody>\n",
       "</table>\n",
       "</div>\n",
       "      <button class=\"colab-df-convert\" onclick=\"convertToInteractive('df-7fc27b5f-9a6a-40ec-8039-d7194d13a352')\"\n",
       "              title=\"Convert this dataframe to an interactive table.\"\n",
       "              style=\"display:none;\">\n",
       "        \n",
       "  <svg xmlns=\"http://www.w3.org/2000/svg\" height=\"24px\"viewBox=\"0 0 24 24\"\n",
       "       width=\"24px\">\n",
       "    <path d=\"M0 0h24v24H0V0z\" fill=\"none\"/>\n",
       "    <path d=\"M18.56 5.44l.94 2.06.94-2.06 2.06-.94-2.06-.94-.94-2.06-.94 2.06-2.06.94zm-11 1L8.5 8.5l.94-2.06 2.06-.94-2.06-.94L8.5 2.5l-.94 2.06-2.06.94zm10 10l.94 2.06.94-2.06 2.06-.94-2.06-.94-.94-2.06-.94 2.06-2.06.94z\"/><path d=\"M17.41 7.96l-1.37-1.37c-.4-.4-.92-.59-1.43-.59-.52 0-1.04.2-1.43.59L10.3 9.45l-7.72 7.72c-.78.78-.78 2.05 0 2.83L4 21.41c.39.39.9.59 1.41.59.51 0 1.02-.2 1.41-.59l7.78-7.78 2.81-2.81c.8-.78.8-2.07 0-2.86zM5.41 20L4 18.59l7.72-7.72 1.47 1.35L5.41 20z\"/>\n",
       "  </svg>\n",
       "      </button>\n",
       "      \n",
       "  <style>\n",
       "    .colab-df-container {\n",
       "      display:flex;\n",
       "      flex-wrap:wrap;\n",
       "      gap: 12px;\n",
       "    }\n",
       "\n",
       "    .colab-df-convert {\n",
       "      background-color: #E8F0FE;\n",
       "      border: none;\n",
       "      border-radius: 50%;\n",
       "      cursor: pointer;\n",
       "      display: none;\n",
       "      fill: #1967D2;\n",
       "      height: 32px;\n",
       "      padding: 0 0 0 0;\n",
       "      width: 32px;\n",
       "    }\n",
       "\n",
       "    .colab-df-convert:hover {\n",
       "      background-color: #E2EBFA;\n",
       "      box-shadow: 0px 1px 2px rgba(60, 64, 67, 0.3), 0px 1px 3px 1px rgba(60, 64, 67, 0.15);\n",
       "      fill: #174EA6;\n",
       "    }\n",
       "\n",
       "    [theme=dark] .colab-df-convert {\n",
       "      background-color: #3B4455;\n",
       "      fill: #D2E3FC;\n",
       "    }\n",
       "\n",
       "    [theme=dark] .colab-df-convert:hover {\n",
       "      background-color: #434B5C;\n",
       "      box-shadow: 0px 1px 3px 1px rgba(0, 0, 0, 0.15);\n",
       "      filter: drop-shadow(0px 1px 2px rgba(0, 0, 0, 0.3));\n",
       "      fill: #FFFFFF;\n",
       "    }\n",
       "  </style>\n",
       "\n",
       "      <script>\n",
       "        const buttonEl =\n",
       "          document.querySelector('#df-7fc27b5f-9a6a-40ec-8039-d7194d13a352 button.colab-df-convert');\n",
       "        buttonEl.style.display =\n",
       "          google.colab.kernel.accessAllowed ? 'block' : 'none';\n",
       "\n",
       "        async function convertToInteractive(key) {\n",
       "          const element = document.querySelector('#df-7fc27b5f-9a6a-40ec-8039-d7194d13a352');\n",
       "          const dataTable =\n",
       "            await google.colab.kernel.invokeFunction('convertToInteractive',\n",
       "                                                     [key], {});\n",
       "          if (!dataTable) return;\n",
       "\n",
       "          const docLinkHtml = 'Like what you see? Visit the ' +\n",
       "            '<a target=\"_blank\" href=https://colab.research.google.com/notebooks/data_table.ipynb>data table notebook</a>'\n",
       "            + ' to learn more about interactive tables.';\n",
       "          element.innerHTML = '';\n",
       "          dataTable['output_type'] = 'display_data';\n",
       "          await google.colab.output.renderOutput(dataTable, element);\n",
       "          const docLink = document.createElement('div');\n",
       "          docLink.innerHTML = docLinkHtml;\n",
       "          element.appendChild(docLink);\n",
       "        }\n",
       "      </script>\n",
       "    </div>\n",
       "  </div>\n",
       "  "
      ],
      "text/plain": [
       "   disk       os  price  year\n",
       "0    64  Android   7256  2016\n",
       "1   128  Android   7623  2015\n",
       "2    64  Android   1916  2010\n",
       "3   512      iOS  15045  2017\n",
       "4    16  Android   4478  2013"
      ]
     },
     "execution_count": 90,
     "metadata": {},
     "output_type": "execute_result"
    }
   ],
   "source": [
    "phones = pd.read_csv(\"1.8_phones.csv\")\n",
    "phones.head()"
   ]
  },
  {
   "cell_type": "markdown",
   "metadata": {
    "id": "LahQYL0tlENL"
   },
   "source": [
    "Looking at which OS are available:"
   ]
  },
  {
   "cell_type": "code",
   "execution_count": null,
   "metadata": {
    "colab": {
     "base_uri": "https://localhost:8080/",
     "height": 143
    },
    "id": "cHUrejB0iMvr",
    "outputId": "aece614e-c024-49d0-8d2e-9071aa61bb40"
   },
   "outputs": [
    {
     "data": {
      "text/html": [
       "\n",
       "  <div id=\"df-9323a61d-9753-4138-80ea-09b0bc575243\">\n",
       "    <div class=\"colab-df-container\">\n",
       "      <div>\n",
       "<style scoped>\n",
       "    .dataframe tbody tr th:only-of-type {\n",
       "        vertical-align: middle;\n",
       "    }\n",
       "\n",
       "    .dataframe tbody tr th {\n",
       "        vertical-align: top;\n",
       "    }\n",
       "\n",
       "    .dataframe thead th {\n",
       "        text-align: right;\n",
       "    }\n",
       "</style>\n",
       "<table border=\"1\" class=\"dataframe\">\n",
       "  <thead>\n",
       "    <tr style=\"text-align: right;\">\n",
       "      <th></th>\n",
       "      <th>disk</th>\n",
       "      <th>price</th>\n",
       "      <th>year</th>\n",
       "    </tr>\n",
       "    <tr>\n",
       "      <th>os</th>\n",
       "      <th></th>\n",
       "      <th></th>\n",
       "      <th></th>\n",
       "    </tr>\n",
       "  </thead>\n",
       "  <tbody>\n",
       "    <tr>\n",
       "      <th>Android</th>\n",
       "      <td>3040</td>\n",
       "      <td>308390</td>\n",
       "      <td>106755</td>\n",
       "    </tr>\n",
       "    <tr>\n",
       "      <th>iOS</th>\n",
       "      <td>18688</td>\n",
       "      <td>502763</td>\n",
       "      <td>94667</td>\n",
       "    </tr>\n",
       "  </tbody>\n",
       "</table>\n",
       "</div>\n",
       "      <button class=\"colab-df-convert\" onclick=\"convertToInteractive('df-9323a61d-9753-4138-80ea-09b0bc575243')\"\n",
       "              title=\"Convert this dataframe to an interactive table.\"\n",
       "              style=\"display:none;\">\n",
       "        \n",
       "  <svg xmlns=\"http://www.w3.org/2000/svg\" height=\"24px\"viewBox=\"0 0 24 24\"\n",
       "       width=\"24px\">\n",
       "    <path d=\"M0 0h24v24H0V0z\" fill=\"none\"/>\n",
       "    <path d=\"M18.56 5.44l.94 2.06.94-2.06 2.06-.94-2.06-.94-.94-2.06-.94 2.06-2.06.94zm-11 1L8.5 8.5l.94-2.06 2.06-.94-2.06-.94L8.5 2.5l-.94 2.06-2.06.94zm10 10l.94 2.06.94-2.06 2.06-.94-2.06-.94-.94-2.06-.94 2.06-2.06.94z\"/><path d=\"M17.41 7.96l-1.37-1.37c-.4-.4-.92-.59-1.43-.59-.52 0-1.04.2-1.43.59L10.3 9.45l-7.72 7.72c-.78.78-.78 2.05 0 2.83L4 21.41c.39.39.9.59 1.41.59.51 0 1.02-.2 1.41-.59l7.78-7.78 2.81-2.81c.8-.78.8-2.07 0-2.86zM5.41 20L4 18.59l7.72-7.72 1.47 1.35L5.41 20z\"/>\n",
       "  </svg>\n",
       "      </button>\n",
       "      \n",
       "  <style>\n",
       "    .colab-df-container {\n",
       "      display:flex;\n",
       "      flex-wrap:wrap;\n",
       "      gap: 12px;\n",
       "    }\n",
       "\n",
       "    .colab-df-convert {\n",
       "      background-color: #E8F0FE;\n",
       "      border: none;\n",
       "      border-radius: 50%;\n",
       "      cursor: pointer;\n",
       "      display: none;\n",
       "      fill: #1967D2;\n",
       "      height: 32px;\n",
       "      padding: 0 0 0 0;\n",
       "      width: 32px;\n",
       "    }\n",
       "\n",
       "    .colab-df-convert:hover {\n",
       "      background-color: #E2EBFA;\n",
       "      box-shadow: 0px 1px 2px rgba(60, 64, 67, 0.3), 0px 1px 3px 1px rgba(60, 64, 67, 0.15);\n",
       "      fill: #174EA6;\n",
       "    }\n",
       "\n",
       "    [theme=dark] .colab-df-convert {\n",
       "      background-color: #3B4455;\n",
       "      fill: #D2E3FC;\n",
       "    }\n",
       "\n",
       "    [theme=dark] .colab-df-convert:hover {\n",
       "      background-color: #434B5C;\n",
       "      box-shadow: 0px 1px 3px 1px rgba(0, 0, 0, 0.15);\n",
       "      filter: drop-shadow(0px 1px 2px rgba(0, 0, 0, 0.3));\n",
       "      fill: #FFFFFF;\n",
       "    }\n",
       "  </style>\n",
       "\n",
       "      <script>\n",
       "        const buttonEl =\n",
       "          document.querySelector('#df-9323a61d-9753-4138-80ea-09b0bc575243 button.colab-df-convert');\n",
       "        buttonEl.style.display =\n",
       "          google.colab.kernel.accessAllowed ? 'block' : 'none';\n",
       "\n",
       "        async function convertToInteractive(key) {\n",
       "          const element = document.querySelector('#df-9323a61d-9753-4138-80ea-09b0bc575243');\n",
       "          const dataTable =\n",
       "            await google.colab.kernel.invokeFunction('convertToInteractive',\n",
       "                                                     [key], {});\n",
       "          if (!dataTable) return;\n",
       "\n",
       "          const docLinkHtml = 'Like what you see? Visit the ' +\n",
       "            '<a target=\"_blank\" href=https://colab.research.google.com/notebooks/data_table.ipynb>data table notebook</a>'\n",
       "            + ' to learn more about interactive tables.';\n",
       "          element.innerHTML = '';\n",
       "          dataTable['output_type'] = 'display_data';\n",
       "          await google.colab.output.renderOutput(dataTable, element);\n",
       "          const docLink = document.createElement('div');\n",
       "          docLink.innerHTML = docLinkHtml;\n",
       "          element.appendChild(docLink);\n",
       "        }\n",
       "      </script>\n",
       "    </div>\n",
       "  </div>\n",
       "  "
      ],
      "text/plain": [
       "          disk   price    year\n",
       "os                            \n",
       "Android   3040  308390  106755\n",
       "iOS      18688  502763   94667"
      ]
     },
     "execution_count": 91,
     "metadata": {},
     "output_type": "execute_result"
    }
   ],
   "source": [
    "phones.groupby('os').agg('sum')"
   ]
  },
  {
   "cell_type": "markdown",
   "metadata": {
    "id": "ZwXkMWu6lVPn"
   },
   "source": [
    "Visualizing the dataset:"
   ]
  },
  {
   "cell_type": "code",
   "execution_count": null,
   "metadata": {
    "colab": {
     "base_uri": "https://localhost:8080/",
     "height": 319
    },
    "id": "rXhrelNp7Mx0",
    "outputId": "8deed955-f97d-438f-cec8-344081aaf80d"
   },
   "outputs": [
    {
     "data": {
      "image/png": "[encoded data removed]",
      "text/plain": [
       "<Figure size 432x288 with 1 Axes>"
      ]
     },
     "metadata": {
      "needs_background": "light"
     },
     "output_type": "display_data"
    }
   ],
   "source": [
    "phones_and = phones[phones['os'] == 'Android']\n",
    "plt.scatter(phones_and['year'], phones_and['price'], label='Android')\n",
    "\n",
    "phones_ios = phones[phones['os'] == 'iOS']\n",
    "plt.scatter(phones_ios['year'], phones_ios['price'], label='iOS')\n",
    "\n",
    "plt.title('Динамика цен на телефоны\\nс разными операционными системами')\n",
    "plt.xlabel('Год')\n",
    "plt.ylabel('Цена')\n",
    "plt.legend()\n",
    "\n",
    "plt.show()"
   ]
  },
  {
   "cell_type": "markdown",
   "metadata": {
    "id": "h1rvGoCB7Mx5"
   },
   "source": [
    "### 2. Predicting the phone price by the regression model"
   ]
  },
  {
   "cell_type": "markdown",
   "metadata": {
    "id": "9_CJa-Aln4a7"
   },
   "source": [
    "#### 2.1. The model for Android phones"
   ]
  },
  {
   "cell_type": "markdown",
   "metadata": {
    "id": "G8oztOCflmQI"
   },
   "source": [
    "Uploading the selected attributes (Year and Price) into the appropriate variables:"
   ]
  },
  {
   "cell_type": "code",
   "execution_count": null,
   "metadata": {
    "id": "XY23EgHH7Mx6"
   },
   "outputs": [],
   "source": [
    "X = phones_and[['year']]\n",
    "y = phones_and['price']"
   ]
  },
  {
   "cell_type": "markdown",
   "metadata": {
    "id": "Nnkxbmp-lv_h"
   },
   "source": [
    "Creating a regressor:"
   ]
  },
  {
   "cell_type": "code",
   "execution_count": null,
   "metadata": {
    "id": "1sDXbyZU7MyC"
   },
   "outputs": [],
   "source": [
    "reg = LinearRegression().fit(X, y)"
   ]
  },
  {
   "cell_type": "markdown",
   "metadata": {
    "id": "AG_TOjLOmF4S"
   },
   "source": [
    "Checking the price by the first value in the database:"
   ]
  },
  {
   "cell_type": "code",
   "execution_count": null,
   "metadata": {
    "colab": {
     "base_uri": "https://localhost:8080/"
    },
    "id": "lGdAt28hmGFr",
    "outputId": "314250c3-3160-4805-d4dc-6d4d773294bb"
   },
   "outputs": [
    {
     "data": {
      "text/plain": [
       "7594.063327651937"
      ]
     },
     "execution_count": 95,
     "metadata": {},
     "output_type": "execute_result"
    }
   ],
   "source": [
    "reg.predict(X[0:1])[0]"
   ]
  },
  {
   "cell_type": "markdown",
   "metadata": {
    "id": "PGxOsc4OmaPG"
   },
   "source": [
    "The value turned out to be satisfactorily close to the real one (7256)"
   ]
  },
  {
   "cell_type": "markdown",
   "metadata": {
    "id": "ZET0x_hDmlUb"
   },
   "source": [
    "Extracting the necessary coefficients:"
   ]
  },
  {
   "cell_type": "code",
   "execution_count": null,
   "metadata": {
    "id": "6DPVQstRmrUd"
   },
   "outputs": [],
   "source": [
    "[b] = reg.coef_\n",
    "a = reg.intercept_"
   ]
  },
  {
   "cell_type": "markdown",
   "metadata": {
    "id": "WKyzLzqRm5gw"
   },
   "source": [
    "Creating a function to predict the phone price:"
   ]
  },
  {
   "cell_type": "code",
   "execution_count": null,
   "metadata": {
    "id": "uh2rSXzonT2k"
   },
   "outputs": [],
   "source": [
    "def reg_prediction(year):\n",
    "    return a + b * year"
   ]
  },
  {
   "cell_type": "markdown",
   "metadata": {
    "id": "9UIGuXCXnUDX"
   },
   "source": [
    "Creating a graph on which the source data is represented by dots, and the model's predictions are represented by a straight line:"
   ]
  },
  {
   "cell_type": "code",
   "execution_count": null,
   "metadata": {
    "colab": {
     "base_uri": "https://localhost:8080/",
     "height": 520
    },
    "id": "vB8XcM3ciMv6",
    "outputId": "20cc693a-06ab-4b04-ada8-026eb9b2bd18"
   },
   "outputs": [
    {
     "data": {
      "image/png": "[encoded data removed]",
      "text/plain": [
       "<Figure size 576x576 with 1 Axes>"
      ]
     },
     "metadata": {
      "needs_background": "light"
     },
     "output_type": "display_data"
    }
   ],
   "source": [
    "fig = plt.figure(figsize=(8, 8)) # создаем холст для графика\n",
    "ax = plt.axes()\n",
    "\n",
    "# помещаем точки на график\n",
    "ax.scatter(phones_and['year'], phones_and['price'], s=100)\n",
    "# помещаем предсказания\n",
    "ax.plot([X.year.min(), X.year.max()], [reg_prediction(X.year.min()), reg_prediction(X.year.max())], c=\"red\")\n",
    "\n",
    "plt.title('Динамика продаж телефонов с Android')\n",
    "plt.xlabel('Год')\n",
    "plt.ylabel('Цена, млрд монгольских тугриков')\n",
    "\n",
    "# отображаем картинку\n",
    "plt.show()"
   ]
  },
  {
   "cell_type": "markdown",
   "metadata": {
    "id": "u_9Qa2pnoLgu"
   },
   "source": [
    "#### 2.1. The model for iOS phones"
   ]
  },
  {
   "cell_type": "markdown",
   "metadata": {
    "id": "9RFE3D0-osbi"
   },
   "source": [
    "Uploading the selected attributes (Year and Price) into the appropriate variables:"
   ]
  },
  {
   "cell_type": "code",
   "execution_count": null,
   "metadata": {
    "id": "WrusfU73oyQU"
   },
   "outputs": [],
   "source": [
    "X = phones_ios[['year']]\n",
    "y = phones_ios['price']"
   ]
  },
  {
   "cell_type": "markdown",
   "metadata": {
    "id": "wfmX5-Kao7ch"
   },
   "source": [
    "Creating a regressor:"
   ]
  },
  {
   "cell_type": "code",
   "execution_count": null,
   "metadata": {
    "id": "UgSLdK5wpDj0"
   },
   "outputs": [],
   "source": [
    "reg = LinearRegression().fit(X, y)"
   ]
  },
  {
   "cell_type": "markdown",
   "metadata": {
    "id": "IkhrvAdWpamE"
   },
   "source": [
    "Checking the price by the first value in the database:"
   ]
  },
  {
   "cell_type": "code",
   "execution_count": null,
   "metadata": {
    "colab": {
     "base_uri": "https://localhost:8080/"
    },
    "id": "zUkebdsEiMv8",
    "outputId": "209322ca-3747-46e8-91e3-79dd0078ab57"
   },
   "outputs": [
    {
     "data": {
      "text/plain": [
       "13369.874267688254"
      ]
     },
     "execution_count": 101,
     "metadata": {},
     "output_type": "execute_result"
    }
   ],
   "source": [
    "reg.predict(X[0:1])[0]"
   ]
  },
  {
   "cell_type": "markdown",
   "metadata": {
    "id": "EULakrCApKQJ"
   },
   "source": [
    "The value also turned out to be satisfactorily close to the real one (15045)"
   ]
  },
  {
   "cell_type": "markdown",
   "metadata": {
    "id": "HNMNaD40prsr"
   },
   "source": [
    "Extracting the necessary coefficients and creating a function to predict the phone price::"
   ]
  },
  {
   "cell_type": "code",
   "execution_count": null,
   "metadata": {
    "id": "HMETYDGqp8Yn"
   },
   "outputs": [],
   "source": [
    "[b] = reg.coef_\n",
    "a = reg.intercept_\n",
    "def reg_prediction(year):\n",
    "    return a + b * year"
   ]
  },
  {
   "cell_type": "markdown",
   "metadata": {
    "id": "UqaFO73fqF6_"
   },
   "source": [
    "Creating a graph on which the source data is represented by dots, and the model's predictions are represented by a straight line:"
   ]
  },
  {
   "cell_type": "code",
   "execution_count": null,
   "metadata": {
    "colab": {
     "base_uri": "https://localhost:8080/",
     "height": 520
    },
    "id": "fR1Pj7GWiMv9",
    "outputId": "5c4ebd31-49e2-4c4d-d0d7-6dd51a509790"
   },
   "outputs": [
    {
     "data": {
      "image/png": "[encoded data removed]",
      "text/plain": [
       "<Figure size 576x576 with 1 Axes>"
      ]
     },
     "metadata": {
      "needs_background": "light"
     },
     "output_type": "display_data"
    }
   ],
   "source": [
    "fig = plt.figure(figsize=(8, 8))\n",
    "ax = plt.axes()\n",
    "\n",
    "ax.scatter(phones_ios['year'], phones_ios['price'], s=100)\n",
    "ax.plot([X.year.min(), X.year.max()], [reg_prediction(X.year.min()), reg_prediction(X.year.max())], c=\"red\")\n",
    "plt.title('Динамика продаж телефонов с iOS')\n",
    "plt.xlabel('Год')\n",
    "plt.ylabel('Цена')\n",
    "\n",
    "plt.show()"
   ]
  },
  {
   "cell_type": "markdown",
   "metadata": {
    "id": "yuclRz_n7MyE"
   },
   "source": [
    "### 3. Predicting the OS by the classification model"
   ]
  },
  {
   "cell_type": "markdown",
   "metadata": {
    "id": "liA2mG60DmXS"
   },
   "source": [
    "Uploading the selected attributes (Year, Price and OS) into the appropriate variables:"
   ]
  },
  {
   "cell_type": "code",
   "execution_count": null,
   "metadata": {
    "id": "J4Ht5MM97MyF"
   },
   "outputs": [],
   "source": [
    "X = phones[['year', 'price']]\n",
    "y = phones['os']"
   ]
  },
  {
   "cell_type": "markdown",
   "metadata": {
    "id": "cDFfslB6EHty"
   },
   "source": [
    "Learning the classofication model:"
   ]
  },
  {
   "cell_type": "code",
   "execution_count": null,
   "metadata": {
    "id": "DMpz3V8g7MyI"
   },
   "outputs": [],
   "source": [
    "cl = DecisionTreeClassifier().fit(X, y)"
   ]
  },
  {
   "cell_type": "markdown",
   "metadata": {
    "id": "BtTPrpzdEo58"
   },
   "source": [
    "Creating a decision tree:"
   ]
  },
  {
   "cell_type": "code",
   "execution_count": null,
   "metadata": {
    "colab": {
     "base_uri": "https://localhost:8080/"
    },
    "id": "hS-diYYZ7MyK",
    "outputId": "d1cf750b-51ac-46d8-9248-c0bc7499116a",
    "scrolled": true
   },
   "outputs": [
    {
     "name": "stdout",
     "output_type": "stream",
     "text": [
      "|--- feature_1 <= 7660.50\n",
      "|   |--- feature_0 <= 2012.50\n",
      "|   |   |--- feature_1 <= 3855.50\n",
      "|   |   |   |--- class: Android\n",
      "|   |   |--- feature_1 >  3855.50\n",
      "|   |   |   |--- class: iOS\n",
      "|   |--- feature_0 >  2012.50\n",
      "|   |   |--- class: Android\n",
      "|--- feature_1 >  7660.50\n",
      "|   |--- feature_0 <= 2015.50\n",
      "|   |   |--- class: iOS\n",
      "|   |--- feature_0 >  2015.50\n",
      "|   |   |--- feature_1 <= 11017.00\n",
      "|   |   |   |--- class: Android\n",
      "|   |   |--- feature_1 >  11017.00\n",
      "|   |   |   |--- class: iOS\n",
      "\n"
     ]
    }
   ],
   "source": [
    "print(export_text(cl))"
   ]
  },
  {
   "cell_type": "markdown",
   "metadata": {
    "id": "Dc1vH6WpFkoG"
   },
   "source": [
    "OS prediction and comparison with a real data:"
   ]
  },
  {
   "cell_type": "code",
   "execution_count": null,
   "metadata": {
    "colab": {
     "base_uri": "https://localhost:8080/"
    },
    "id": "CjINqdlbiMwE",
    "outputId": "c7c10fa1-1cdf-4b68-8e38-c5a33ada281f"
   },
   "outputs": [
    {
     "data": {
      "text/plain": [
       "('iOS', 'iOS')"
      ]
     },
     "execution_count": 107,
     "metadata": {},
     "output_type": "execute_result"
    }
   ],
   "source": [
    "cl.predict(X[3:4])[0], y[3]"
   ]
  }
 ],
 "metadata": {
  "colab": {
   "provenance": []
  },
  "kernelspec": {
   "display_name": "Python 3 (ipykernel)",
   "language": "python",
   "name": "python3"
  },
  "language_info": {
   "codemirror_mode": {
    "name": "ipython",
    "version": 3
   },
   "file_extension": ".py",
   "mimetype": "text/x-python",
   "name": "python",
   "nbconvert_exporter": "python",
   "pygments_lexer": "ipython3",
   "version": "3.11.7"
  }
 },
 "nbformat": 4,
 "nbformat_minor": 4
}
